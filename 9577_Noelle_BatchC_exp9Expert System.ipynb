{
 "cells": [
  {
   "cell_type": "code",
   "execution_count": 1,
   "id": "480689d6",
   "metadata": {},
   "outputs": [
    {
     "name": "stdout",
     "output_type": "stream",
     "text": [
      "happy\n",
      "sad\n"
     ]
    }
   ],
   "source": [
    "class ExpertSystem:\n",
    "    def __init__(self):\n",
    "        self.knowledge_base = {}  # Factual and heuristic knowledge\n",
    "        self.inference_engine = InferenceEngine()\n",
    "\n",
    "    def add_rule(self, rule):\n",
    "        # Add rule to the knowledge base\n",
    "        self.knowledge_base[rule.condition] = rule.conclusion\n",
    "\n",
    "    def acquire_knowledge(self, expert):\n",
    "        # Acquire knowledge from an expert\n",
    "        self.knowledge_base.update(expert.provide_knowledge())\n",
    "\n",
    "    def consult_expert(self, query):\n",
    "        # Consult the expert system for a query\n",
    "        return self.inference_engine.query(self.knowledge_base, query)\n",
    "\n",
    "\n",
    "class InferenceEngine:\n",
    "    def query(self, knowledge_base, query):\n",
    "        # Use forward chaining to deduce the answer\n",
    "        if query in knowledge_base:\n",
    "            return knowledge_base[query]\n",
    "        else:\n",
    "            return \"Cannot determine.\"\n",
    "\n",
    "\n",
    "class Expert:\n",
    "    def provide_knowledge(self):\n",
    "        # Provide factual and heuristic knowledge\n",
    "        return {\n",
    "            \"IF condition THEN conclusion\": \"Heuristic knowledge\"\n",
    "        }\n",
    "\n",
    "\n",
    "# Define the Rule class\n",
    "class Rule:\n",
    "    def __init__(self, condition, conclusion):\n",
    "        self.condition = condition\n",
    "        self.conclusion = conclusion\n",
    "\n",
    "# Your ExpertSystem and other classes go here\n",
    "\n",
    "# Example usage:\n",
    "def main():\n",
    "    # Create an expert system\n",
    "    expert_system = ExpertSystem()\n",
    "\n",
    "    # Create an expert and acquire knowledge\n",
    "    expert = Expert()\n",
    "    expert_system.acquire_knowledge(expert)\n",
    "\n",
    "    # Add rules to the knowledge base\n",
    "    expert_system.add_rule(Rule(\"sunny\", \"happy\"))\n",
    "    expert_system.add_rule(Rule(\"rainy\", \"sad\"))\n",
    "\n",
    "    # Consult the expert system\n",
    "    print(expert_system.consult_expert(\"sunny\"))\n",
    "    print(expert_system.consult_expert(\"rainy\"))\n",
    "\n",
    "if __name__ == \"__main__\":\n",
    "    main()"
   ]
  },
  {
   "cell_type": "code",
   "execution_count": null,
   "id": "42867333",
   "metadata": {},
   "outputs": [],
   "source": []
  }
 ],
 "metadata": {
  "kernelspec": {
   "display_name": "Python 3 (ipykernel)",
   "language": "python",
   "name": "python3"
  },
  "language_info": {
   "codemirror_mode": {
    "name": "ipython",
    "version": 3
   },
   "file_extension": ".py",
   "mimetype": "text/x-python",
   "name": "python",
   "nbconvert_exporter": "python",
   "pygments_lexer": "ipython3",
   "version": "3.7.1"
  }
 },
 "nbformat": 4,
 "nbformat_minor": 5
}
